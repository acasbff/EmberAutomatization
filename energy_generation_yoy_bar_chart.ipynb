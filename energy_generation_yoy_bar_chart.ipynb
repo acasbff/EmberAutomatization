{
 "cells": [
  {
   "cell_type": "markdown",
   "id": "f6a2df34",
   "metadata": {},
   "source": [
    "## Import packages"
   ]
  },
  {
   "cell_type": "code",
   "execution_count": 1,
   "id": "ee75121b",
   "metadata": {
    "scrolled": true
   },
   "outputs": [],
   "source": [
    "import requests\n",
    "import pandas as pd\n",
    "import os\n",
    "import time"
   ]
  },
  {
   "cell_type": "markdown",
   "id": "4ad05860",
   "metadata": {},
   "source": [
    "## API access parameters"
   ]
  },
  {
   "cell_type": "code",
   "execution_count": 2,
   "id": "7dfeb132",
   "metadata": {},
   "outputs": [],
   "source": [
    "my_api_key = \"51356ef8-f7dd-43a1-9629-1965b7830a26\"\n",
    "base_url = \"https://api.ember-climate.org\""
   ]
  },
  {
   "cell_type": "markdown",
   "id": "ce772ac6",
   "metadata": {},
   "source": [
    "## Parameters for the charts"
   ]
  },
  {
   "cell_type": "markdown",
   "id": "2e74b5cf",
   "metadata": {},
   "source": [
    "### Countries to import"
   ]
  },
  {
   "cell_type": "code",
   "execution_count": 3,
   "id": "30651f55",
   "metadata": {},
   "outputs": [],
   "source": [
    "iso_codes = [\n",
    "    \"ALB\",  # Albania\n",
    "    \"AUT\",  # Austria\n",
    "    \"BEL\",  # Belgium\n",
    "    \"BIH\",  # Bosnia and Herzegovina\n",
    "    \"BGR\",  # Bulgaria\n",
    "    \"HRV\",  # Croatia\n",
    "    \"CYP\",  # Cyprus\n",
    "    \"CZE\",  # Czech Republic\n",
    "    \"DNK\",  # Denmark\n",
    "    \"EST\",  # Estonia\n",
    "    \"FIN\",  # Finland\n",
    "    \"FRA\",  # France\n",
    "    \"DEU\",  # Germany\n",
    "    \"GRC\",  # Greece\n",
    "    \"HUN\",  # Hungary\n",
    "    \"IRL\",  # Ireland\n",
    "    \"ITA\",  # Italy\n",
    "    \"XKX\",  # Kosovo\n",
    "    \"LVA\",  # Latvia\n",
    "    \"LTU\",  # Lithuania\n",
    "    \"LUX\",  # Luxembourg\n",
    "    \"MLT\",  # Malta\n",
    "    \"MDA\",  # Moldova\n",
    "    \"MNE\",  # Montenegro\n",
    "    \"NLD\",  # Netherlands\n",
    "    \"MKD\",  # North Macedonia\n",
    "    \"NOR\",  # Norway\n",
    "    \"POL\",  # Poland\n",
    "    \"PRT\",  # Portugal\n",
    "    \"ROU\",  # Romania\n",
    "    \"SRB\",  # Serbia\n",
    "    \"SVK\",  # Slovakia\n",
    "    \"SVN\",  # Slovenia\n",
    "    \"ESP\",  # Spain\n",
    "    \"SWE\",  # Sweden\n",
    "    \"CHE\",  # Switzerland\n",
    "    \"TUR\",  # Turkey\n",
    "    \"GBR\",  # United Kingdom\n",
    "]"
   ]
  },
  {
   "cell_type": "markdown",
   "id": "5bf680e5",
   "metadata": {},
   "source": [
    "### Number of months we want to display on the charts"
   ]
  },
  {
   "cell_type": "code",
   "execution_count": 4,
   "id": "f28a8be8",
   "metadata": {},
   "outputs": [],
   "source": [
    "last_month = 12\n",
    "last_year = 2023\n",
    "\n",
    "nbr_months_rolling_year = 12"
   ]
  },
  {
   "cell_type": "markdown",
   "id": "46fc8045",
   "metadata": {},
   "source": [
    "#### Listing the months we will have, based on the parameters we have chosen"
   ]
  },
  {
   "cell_type": "code",
   "execution_count": 5,
   "id": "cf954876",
   "metadata": {},
   "outputs": [],
   "source": [
    "months_old_rolling_year = [\n",
    "    f\"{year}-{month:02d}-01\"\n",
    "    for year, month in [\n",
    "        time.localtime(\n",
    "            time.mktime((last_year - 1, last_month  - n, 1, 0, 0, 0, 0, 0, 0))\n",
    "        )[:2]\n",
    "        for n in range(nbr_months_rolling_year)\n",
    "    ]\n",
    "]\n",
    "months_new_rolling_year = [\n",
    "    f\"{year}-{month:02d}-01\"\n",
    "    for year, month in [\n",
    "        time.localtime(\n",
    "            time.mktime((last_year, last_month  - n, 1, 0, 0, 0, 0, 0, 0))\n",
    "        )[:2]\n",
    "        for n in range(nbr_months_rolling_year)\n",
    "    ]\n",
    "]\n",
    "\n",
    "months_expected = [\n",
    "    f\"{month:02d}\"\n",
    "    for year, month in [\n",
    "        time.localtime(\n",
    "            time.mktime((last_year, last_month  - n, 1, 0, 0, 0, 0, 0, 0))\n",
    "        )[:2]\n",
    "        for n in range(nbr_months_rolling_year)\n",
    "    ]\n",
    "]"
   ]
  },
  {
   "cell_type": "code",
   "execution_count": 6,
   "id": "099d8e54",
   "metadata": {},
   "outputs": [
    {
     "data": {
      "text/plain": [
       "['2022-12-01',\n",
       " '2022-11-01',\n",
       " '2022-10-01',\n",
       " '2022-09-01',\n",
       " '2022-08-01',\n",
       " '2022-07-01',\n",
       " '2022-06-01',\n",
       " '2022-05-01',\n",
       " '2022-04-01',\n",
       " '2022-03-01',\n",
       " '2022-02-01',\n",
       " '2022-01-01']"
      ]
     },
     "execution_count": 6,
     "metadata": {},
     "output_type": "execute_result"
    }
   ],
   "source": [
    "months_old_rolling_year"
   ]
  },
  {
   "cell_type": "code",
   "execution_count": 7,
   "id": "41c953eb",
   "metadata": {},
   "outputs": [
    {
     "data": {
      "text/plain": [
       "['2023-12-01',\n",
       " '2023-11-01',\n",
       " '2023-10-01',\n",
       " '2023-09-01',\n",
       " '2023-08-01',\n",
       " '2023-07-01',\n",
       " '2023-06-01',\n",
       " '2023-05-01',\n",
       " '2023-04-01',\n",
       " '2023-03-01',\n",
       " '2023-02-01',\n",
       " '2023-01-01']"
      ]
     },
     "execution_count": 7,
     "metadata": {},
     "output_type": "execute_result"
    }
   ],
   "source": [
    "months_new_rolling_year"
   ]
  },
  {
   "cell_type": "markdown",
   "id": "959e1adb",
   "metadata": {},
   "source": [
    "## Running the API"
   ]
  },
  {
   "cell_type": "markdown",
   "id": "96f219ce",
   "metadata": {},
   "source": [
    "### Queries"
   ]
  },
  {
   "cell_type": "code",
   "execution_count": 8,
   "id": "f3142d7e",
   "metadata": {},
   "outputs": [],
   "source": [
    "query_url_generation = (\n",
    "    f\"{base_url}/v1/electricity-generation/monthly\"\n",
    "    + f\"?entity_code={','.join(iso_codes)}&is_aggregate_series=false&start_date=2000&api_key={my_api_key}\"\n",
    ")\n",
    "\n",
    "query_url_demand = (\n",
    "    f\"{base_url}/v1/electricity-demand/monthly\"\n",
    "    + f\"?entity_code={','.join(iso_codes)}&is_aggregate_series=false&start_date=2000&api_key={my_api_key}\"\n",
    ")"
   ]
  },
  {
   "cell_type": "code",
   "execution_count": 9,
   "id": "56aafa43",
   "metadata": {},
   "outputs": [
    {
     "data": {
      "text/plain": [
       "'https://api.ember-climate.org/v1/electricity-generation/monthly?entity_code=ALB,AUT,BEL,BIH,BGR,HRV,CYP,CZE,DNK,EST,FIN,FRA,DEU,GRC,HUN,IRL,ITA,XKX,LVA,LTU,LUX,MLT,MDA,MNE,NLD,MKD,NOR,POL,PRT,ROU,SRB,SVK,SVN,ESP,SWE,CHE,TUR,GBR&is_aggregate_series=false&start_date=2000&api_key=51356ef8-f7dd-43a1-9629-1965b7830a26'"
      ]
     },
     "execution_count": 9,
     "metadata": {},
     "output_type": "execute_result"
    }
   ],
   "source": [
    "query_url_generation"
   ]
  },
  {
   "cell_type": "code",
   "execution_count": 10,
   "id": "c2bf7c72",
   "metadata": {},
   "outputs": [
    {
     "data": {
      "text/plain": [
       "'https://api.ember-climate.org/v1/electricity-demand/monthly?entity_code=ALB,AUT,BEL,BIH,BGR,HRV,CYP,CZE,DNK,EST,FIN,FRA,DEU,GRC,HUN,IRL,ITA,XKX,LVA,LTU,LUX,MLT,MDA,MNE,NLD,MKD,NOR,POL,PRT,ROU,SRB,SVK,SVN,ESP,SWE,CHE,TUR,GBR&is_aggregate_series=false&start_date=2000&api_key=51356ef8-f7dd-43a1-9629-1965b7830a26'"
      ]
     },
     "execution_count": 10,
     "metadata": {},
     "output_type": "execute_result"
    }
   ],
   "source": [
    "query_url_demand"
   ]
  },
  {
   "cell_type": "markdown",
   "id": "898ab5ac",
   "metadata": {},
   "source": [
    "### Executing the queries. 200 = success"
   ]
  },
  {
   "cell_type": "code",
   "execution_count": 11,
   "id": "1e3f5081",
   "metadata": {},
   "outputs": [],
   "source": [
    "response_generation = requests.get(query_url_generation)\n",
    "response_demand = requests.get(query_url_demand)"
   ]
  },
  {
   "cell_type": "code",
   "execution_count": 12,
   "id": "136e9ba9",
   "metadata": {},
   "outputs": [
    {
     "data": {
      "text/plain": [
       "200"
      ]
     },
     "execution_count": 12,
     "metadata": {},
     "output_type": "execute_result"
    }
   ],
   "source": [
    "response_generation.status_code"
   ]
  },
  {
   "cell_type": "code",
   "execution_count": 13,
   "id": "9ac0ff40",
   "metadata": {
    "scrolled": true
   },
   "outputs": [
    {
     "data": {
      "text/plain": [
       "200"
      ]
     },
     "execution_count": 13,
     "metadata": {},
     "output_type": "execute_result"
    }
   ],
   "source": [
    "response_demand.status_code"
   ]
  },
  {
   "cell_type": "markdown",
   "id": "b066518a",
   "metadata": {},
   "source": [
    "## Extracting the results"
   ]
  },
  {
   "cell_type": "code",
   "execution_count": 14,
   "id": "c0b3b325",
   "metadata": {},
   "outputs": [],
   "source": [
    "data_generation = response_generation.json()[\"data\"]\n",
    "data_demand = response_demand.json()[\"data\"]\n",
    "df_generation = pd.DataFrame(data_generation)\n",
    "df_demand = pd.DataFrame(data_demand)"
   ]
  },
  {
   "cell_type": "code",
   "execution_count": 15,
   "id": "b043665c",
   "metadata": {},
   "outputs": [
    {
     "data": {
      "text/html": [
       "<div>\n",
       "<style scoped>\n",
       "    .dataframe tbody tr th:only-of-type {\n",
       "        vertical-align: middle;\n",
       "    }\n",
       "\n",
       "    .dataframe tbody tr th {\n",
       "        vertical-align: top;\n",
       "    }\n",
       "\n",
       "    .dataframe thead th {\n",
       "        text-align: right;\n",
       "    }\n",
       "</style>\n",
       "<table border=\"1\" class=\"dataframe\">\n",
       "  <thead>\n",
       "    <tr style=\"text-align: right;\">\n",
       "      <th></th>\n",
       "      <th>entity</th>\n",
       "      <th>entity_code</th>\n",
       "      <th>is_aggregate_entity</th>\n",
       "      <th>date</th>\n",
       "      <th>series</th>\n",
       "      <th>is_aggregate_series</th>\n",
       "      <th>generation_twh</th>\n",
       "      <th>share_of_generation_pct</th>\n",
       "    </tr>\n",
       "  </thead>\n",
       "  <tbody>\n",
       "    <tr>\n",
       "      <th>0</th>\n",
       "      <td>Austria</td>\n",
       "      <td>AUT</td>\n",
       "      <td>False</td>\n",
       "      <td>2015-01-01</td>\n",
       "      <td>Bioenergy</td>\n",
       "      <td>False</td>\n",
       "      <td>0.23</td>\n",
       "      <td>4.23</td>\n",
       "    </tr>\n",
       "    <tr>\n",
       "      <th>1</th>\n",
       "      <td>Austria</td>\n",
       "      <td>AUT</td>\n",
       "      <td>False</td>\n",
       "      <td>2015-01-01</td>\n",
       "      <td>Coal</td>\n",
       "      <td>False</td>\n",
       "      <td>0.26</td>\n",
       "      <td>4.78</td>\n",
       "    </tr>\n",
       "    <tr>\n",
       "      <th>2</th>\n",
       "      <td>Austria</td>\n",
       "      <td>AUT</td>\n",
       "      <td>False</td>\n",
       "      <td>2015-01-01</td>\n",
       "      <td>Gas</td>\n",
       "      <td>False</td>\n",
       "      <td>1.16</td>\n",
       "      <td>21.32</td>\n",
       "    </tr>\n",
       "    <tr>\n",
       "      <th>3</th>\n",
       "      <td>Austria</td>\n",
       "      <td>AUT</td>\n",
       "      <td>False</td>\n",
       "      <td>2015-01-01</td>\n",
       "      <td>Hydro</td>\n",
       "      <td>False</td>\n",
       "      <td>2.98</td>\n",
       "      <td>54.78</td>\n",
       "    </tr>\n",
       "    <tr>\n",
       "      <th>4</th>\n",
       "      <td>Austria</td>\n",
       "      <td>AUT</td>\n",
       "      <td>False</td>\n",
       "      <td>2015-01-01</td>\n",
       "      <td>Net imports</td>\n",
       "      <td>False</td>\n",
       "      <td>2.08</td>\n",
       "      <td>38.24</td>\n",
       "    </tr>\n",
       "    <tr>\n",
       "      <th>...</th>\n",
       "      <td>...</td>\n",
       "      <td>...</td>\n",
       "      <td>...</td>\n",
       "      <td>...</td>\n",
       "      <td>...</td>\n",
       "      <td>...</td>\n",
       "      <td>...</td>\n",
       "      <td>...</td>\n",
       "    </tr>\n",
       "    <tr>\n",
       "      <th>31012</th>\n",
       "      <td>United Kingdom</td>\n",
       "      <td>GBR</td>\n",
       "      <td>False</td>\n",
       "      <td>2024-06-01</td>\n",
       "      <td>Net imports</td>\n",
       "      <td>False</td>\n",
       "      <td>2.95</td>\n",
       "      <td>17.87</td>\n",
       "    </tr>\n",
       "    <tr>\n",
       "      <th>31013</th>\n",
       "      <td>United Kingdom</td>\n",
       "      <td>GBR</td>\n",
       "      <td>False</td>\n",
       "      <td>2024-06-01</td>\n",
       "      <td>Nuclear</td>\n",
       "      <td>False</td>\n",
       "      <td>3.38</td>\n",
       "      <td>20.47</td>\n",
       "    </tr>\n",
       "    <tr>\n",
       "      <th>31014</th>\n",
       "      <td>United Kingdom</td>\n",
       "      <td>GBR</td>\n",
       "      <td>False</td>\n",
       "      <td>2024-06-01</td>\n",
       "      <td>Other fossil</td>\n",
       "      <td>False</td>\n",
       "      <td>0.29</td>\n",
       "      <td>1.76</td>\n",
       "    </tr>\n",
       "    <tr>\n",
       "      <th>31015</th>\n",
       "      <td>United Kingdom</td>\n",
       "      <td>GBR</td>\n",
       "      <td>False</td>\n",
       "      <td>2024-06-01</td>\n",
       "      <td>Solar</td>\n",
       "      <td>False</td>\n",
       "      <td>2.02</td>\n",
       "      <td>12.24</td>\n",
       "    </tr>\n",
       "    <tr>\n",
       "      <th>31016</th>\n",
       "      <td>United Kingdom</td>\n",
       "      <td>GBR</td>\n",
       "      <td>False</td>\n",
       "      <td>2024-06-01</td>\n",
       "      <td>Wind</td>\n",
       "      <td>False</td>\n",
       "      <td>5.17</td>\n",
       "      <td>31.31</td>\n",
       "    </tr>\n",
       "  </tbody>\n",
       "</table>\n",
       "<p>31017 rows × 8 columns</p>\n",
       "</div>"
      ],
      "text/plain": [
       "               entity entity_code  is_aggregate_entity        date  \\\n",
       "0             Austria         AUT                False  2015-01-01   \n",
       "1             Austria         AUT                False  2015-01-01   \n",
       "2             Austria         AUT                False  2015-01-01   \n",
       "3             Austria         AUT                False  2015-01-01   \n",
       "4             Austria         AUT                False  2015-01-01   \n",
       "...               ...         ...                  ...         ...   \n",
       "31012  United Kingdom         GBR                False  2024-06-01   \n",
       "31013  United Kingdom         GBR                False  2024-06-01   \n",
       "31014  United Kingdom         GBR                False  2024-06-01   \n",
       "31015  United Kingdom         GBR                False  2024-06-01   \n",
       "31016  United Kingdom         GBR                False  2024-06-01   \n",
       "\n",
       "             series  is_aggregate_series  generation_twh  \\\n",
       "0         Bioenergy                False            0.23   \n",
       "1              Coal                False            0.26   \n",
       "2               Gas                False            1.16   \n",
       "3             Hydro                False            2.98   \n",
       "4       Net imports                False            2.08   \n",
       "...             ...                  ...             ...   \n",
       "31012   Net imports                False            2.95   \n",
       "31013       Nuclear                False            3.38   \n",
       "31014  Other fossil                False            0.29   \n",
       "31015         Solar                False            2.02   \n",
       "31016          Wind                False            5.17   \n",
       "\n",
       "       share_of_generation_pct  \n",
       "0                         4.23  \n",
       "1                         4.78  \n",
       "2                        21.32  \n",
       "3                        54.78  \n",
       "4                        38.24  \n",
       "...                        ...  \n",
       "31012                    17.87  \n",
       "31013                    20.47  \n",
       "31014                     1.76  \n",
       "31015                    12.24  \n",
       "31016                    31.31  \n",
       "\n",
       "[31017 rows x 8 columns]"
      ]
     },
     "execution_count": 15,
     "metadata": {},
     "output_type": "execute_result"
    }
   ],
   "source": [
    "df_generation"
   ]
  },
  {
   "cell_type": "code",
   "execution_count": 16,
   "id": "e84204c5",
   "metadata": {},
   "outputs": [
    {
     "data": {
      "text/html": [
       "<div>\n",
       "<style scoped>\n",
       "    .dataframe tbody tr th:only-of-type {\n",
       "        vertical-align: middle;\n",
       "    }\n",
       "\n",
       "    .dataframe tbody tr th {\n",
       "        vertical-align: top;\n",
       "    }\n",
       "\n",
       "    .dataframe thead th {\n",
       "        text-align: right;\n",
       "    }\n",
       "</style>\n",
       "<table border=\"1\" class=\"dataframe\">\n",
       "  <thead>\n",
       "    <tr style=\"text-align: right;\">\n",
       "      <th></th>\n",
       "      <th>entity</th>\n",
       "      <th>entity_code</th>\n",
       "      <th>is_aggregate_entity</th>\n",
       "      <th>date</th>\n",
       "      <th>demand_twh</th>\n",
       "    </tr>\n",
       "  </thead>\n",
       "  <tbody>\n",
       "    <tr>\n",
       "      <th>0</th>\n",
       "      <td>Austria</td>\n",
       "      <td>AUT</td>\n",
       "      <td>False</td>\n",
       "      <td>2015-01-01</td>\n",
       "      <td>7.52</td>\n",
       "    </tr>\n",
       "    <tr>\n",
       "      <th>1</th>\n",
       "      <td>Austria</td>\n",
       "      <td>AUT</td>\n",
       "      <td>False</td>\n",
       "      <td>2015-02-01</td>\n",
       "      <td>6.34</td>\n",
       "    </tr>\n",
       "    <tr>\n",
       "      <th>2</th>\n",
       "      <td>Austria</td>\n",
       "      <td>AUT</td>\n",
       "      <td>False</td>\n",
       "      <td>2015-03-01</td>\n",
       "      <td>6.77</td>\n",
       "    </tr>\n",
       "    <tr>\n",
       "      <th>3</th>\n",
       "      <td>Austria</td>\n",
       "      <td>AUT</td>\n",
       "      <td>False</td>\n",
       "      <td>2015-04-01</td>\n",
       "      <td>5.89</td>\n",
       "    </tr>\n",
       "    <tr>\n",
       "      <th>4</th>\n",
       "      <td>Austria</td>\n",
       "      <td>AUT</td>\n",
       "      <td>False</td>\n",
       "      <td>2015-05-01</td>\n",
       "      <td>5.56</td>\n",
       "    </tr>\n",
       "    <tr>\n",
       "      <th>...</th>\n",
       "      <td>...</td>\n",
       "      <td>...</td>\n",
       "      <td>...</td>\n",
       "      <td>...</td>\n",
       "      <td>...</td>\n",
       "    </tr>\n",
       "    <tr>\n",
       "      <th>3757</th>\n",
       "      <td>United Kingdom</td>\n",
       "      <td>GBR</td>\n",
       "      <td>False</td>\n",
       "      <td>2024-02-01</td>\n",
       "      <td>23.19</td>\n",
       "    </tr>\n",
       "    <tr>\n",
       "      <th>3758</th>\n",
       "      <td>United Kingdom</td>\n",
       "      <td>GBR</td>\n",
       "      <td>False</td>\n",
       "      <td>2024-03-01</td>\n",
       "      <td>23.86</td>\n",
       "    </tr>\n",
       "    <tr>\n",
       "      <th>3759</th>\n",
       "      <td>United Kingdom</td>\n",
       "      <td>GBR</td>\n",
       "      <td>False</td>\n",
       "      <td>2024-04-01</td>\n",
       "      <td>21.88</td>\n",
       "    </tr>\n",
       "    <tr>\n",
       "      <th>3760</th>\n",
       "      <td>United Kingdom</td>\n",
       "      <td>GBR</td>\n",
       "      <td>False</td>\n",
       "      <td>2024-05-01</td>\n",
       "      <td>19.22</td>\n",
       "    </tr>\n",
       "    <tr>\n",
       "      <th>3761</th>\n",
       "      <td>United Kingdom</td>\n",
       "      <td>GBR</td>\n",
       "      <td>False</td>\n",
       "      <td>2024-06-01</td>\n",
       "      <td>19.46</td>\n",
       "    </tr>\n",
       "  </tbody>\n",
       "</table>\n",
       "<p>3762 rows × 5 columns</p>\n",
       "</div>"
      ],
      "text/plain": [
       "              entity entity_code  is_aggregate_entity        date  demand_twh\n",
       "0            Austria         AUT                False  2015-01-01        7.52\n",
       "1            Austria         AUT                False  2015-02-01        6.34\n",
       "2            Austria         AUT                False  2015-03-01        6.77\n",
       "3            Austria         AUT                False  2015-04-01        5.89\n",
       "4            Austria         AUT                False  2015-05-01        5.56\n",
       "...              ...         ...                  ...         ...         ...\n",
       "3757  United Kingdom         GBR                False  2024-02-01       23.19\n",
       "3758  United Kingdom         GBR                False  2024-03-01       23.86\n",
       "3759  United Kingdom         GBR                False  2024-04-01       21.88\n",
       "3760  United Kingdom         GBR                False  2024-05-01       19.22\n",
       "3761  United Kingdom         GBR                False  2024-06-01       19.46\n",
       "\n",
       "[3762 rows x 5 columns]"
      ]
     },
     "execution_count": 16,
     "metadata": {},
     "output_type": "execute_result"
    }
   ],
   "source": [
    "df_demand"
   ]
  },
  {
   "cell_type": "markdown",
   "id": "93d87feb",
   "metadata": {},
   "source": [
    "### Filtering only the data that we need"
   ]
  },
  {
   "cell_type": "markdown",
   "id": "c177ac60",
   "metadata": {},
   "source": [
    "#### We extract the month from the date"
   ]
  },
  {
   "cell_type": "code",
   "execution_count": 17,
   "id": "d966f06f",
   "metadata": {},
   "outputs": [],
   "source": [
    "df_generation[\"month\"] = df_generation[\"date\"].str[5:7]\n",
    "df_demand[\"month\"] = df_demand[\"date\"].str[5:7]"
   ]
  },
  {
   "cell_type": "markdown",
   "id": "fade9746",
   "metadata": {},
   "source": [
    "#### We create one table with the current ('new') data, one table with the data we compare with ('old')"
   ]
  },
  {
   "cell_type": "code",
   "execution_count": 18,
   "id": "11c67352",
   "metadata": {},
   "outputs": [],
   "source": [
    "df_generation_old = df_generation.loc[\n",
    "        df_generation[\"date\"].isin(months_old_rolling_year)\n",
    "    ].copy()\n",
    "df_generation_old[\"generation_twh_old\"] = df_generation_old[\"generation_twh\"]\n",
    "df_generation_old = df_generation_old[\n",
    "        [\"entity\", \"entity_code\", \"month\", \"series\", \"generation_twh_old\"]\n",
    "    ]\n",
    "df_generation_new = df_generation.loc[\n",
    "        df_generation[\"date\"].isin(months_new_rolling_year)\n",
    "    ].copy()\n",
    "df_generation_new[\"generation_twh_new\"] = df_generation_new[\"generation_twh\"]\n",
    "df_generation_new = df_generation_new[\n",
    "        [\"entity\", \"entity_code\", \"month\", \"series\", \"generation_twh_new\", \"date\"]\n",
    "    ]"
   ]
  },
  {
   "cell_type": "code",
   "execution_count": 19,
   "id": "354dc2e1",
   "metadata": {},
   "outputs": [],
   "source": [
    "df_demand_old = df_demand.loc[df_demand[\"date\"].isin(months_old_rolling_year)].copy()\n",
    "df_demand_old[\"series\"] = \"Demand\"\n",
    "df_demand_old[f\"generation_twh_old\"] = df_demand_old[\"demand_twh\"]\n",
    "df_demand_old = df_demand_old[\n",
    "        [\"entity\", \"entity_code\", \"month\", \"series\", \"generation_twh_old\"]\n",
    "    ]\n",
    "\n",
    "df_demand_new = df_demand.loc[df_demand[\"date\"].isin(months_new_rolling_year)].copy()\n",
    "df_demand_new[\"series\"] = \"Demand\"\n",
    "df_demand_new[f\"generation_twh_new\"] = df_demand_new[\"demand_twh\"]\n",
    "df_demand_new = df_demand_new[\n",
    "        [\"entity\", \"entity_code\", \"month\", \"series\", \"generation_twh_new\", \"date\"]\n",
    "    ]"
   ]
  },
  {
   "cell_type": "markdown",
   "id": "9820990e",
   "metadata": {},
   "source": [
    "#### We merge generation and demand tables"
   ]
  },
  {
   "cell_type": "code",
   "execution_count": 20,
   "id": "9f4c55b1",
   "metadata": {
    "scrolled": true
   },
   "outputs": [],
   "source": [
    "df_old = pd.concat([df_generation_old, df_demand_old])\n",
    "df_new = pd.concat([df_generation_new, df_demand_new])"
   ]
  },
  {
   "cell_type": "code",
   "execution_count": 21,
   "id": "548b66bd",
   "metadata": {},
   "outputs": [
    {
     "data": {
      "text/html": [
       "<div>\n",
       "<style scoped>\n",
       "    .dataframe tbody tr th:only-of-type {\n",
       "        vertical-align: middle;\n",
       "    }\n",
       "\n",
       "    .dataframe tbody tr th {\n",
       "        vertical-align: top;\n",
       "    }\n",
       "\n",
       "    .dataframe thead th {\n",
       "        text-align: right;\n",
       "    }\n",
       "</style>\n",
       "<table border=\"1\" class=\"dataframe\">\n",
       "  <thead>\n",
       "    <tr style=\"text-align: right;\">\n",
       "      <th></th>\n",
       "      <th>entity</th>\n",
       "      <th>entity_code</th>\n",
       "      <th>month</th>\n",
       "      <th>series</th>\n",
       "      <th>generation_twh_old</th>\n",
       "    </tr>\n",
       "  </thead>\n",
       "  <tbody>\n",
       "    <tr>\n",
       "      <th>13918</th>\n",
       "      <td>Ireland</td>\n",
       "      <td>IRL</td>\n",
       "      <td>12</td>\n",
       "      <td>Bioenergy</td>\n",
       "      <td>0.01</td>\n",
       "    </tr>\n",
       "    <tr>\n",
       "      <th>13919</th>\n",
       "      <td>Ireland</td>\n",
       "      <td>IRL</td>\n",
       "      <td>12</td>\n",
       "      <td>Coal</td>\n",
       "      <td>0.23</td>\n",
       "    </tr>\n",
       "    <tr>\n",
       "      <th>13920</th>\n",
       "      <td>Ireland</td>\n",
       "      <td>IRL</td>\n",
       "      <td>12</td>\n",
       "      <td>Gas</td>\n",
       "      <td>1.40</td>\n",
       "    </tr>\n",
       "    <tr>\n",
       "      <th>13921</th>\n",
       "      <td>Ireland</td>\n",
       "      <td>IRL</td>\n",
       "      <td>12</td>\n",
       "      <td>Hydro</td>\n",
       "      <td>0.09</td>\n",
       "    </tr>\n",
       "    <tr>\n",
       "      <th>13922</th>\n",
       "      <td>Ireland</td>\n",
       "      <td>IRL</td>\n",
       "      <td>12</td>\n",
       "      <td>Net imports</td>\n",
       "      <td>0.25</td>\n",
       "    </tr>\n",
       "    <tr>\n",
       "      <th>13923</th>\n",
       "      <td>Ireland</td>\n",
       "      <td>IRL</td>\n",
       "      <td>12</td>\n",
       "      <td>Other fossil</td>\n",
       "      <td>0.20</td>\n",
       "    </tr>\n",
       "    <tr>\n",
       "      <th>13924</th>\n",
       "      <td>Ireland</td>\n",
       "      <td>IRL</td>\n",
       "      <td>12</td>\n",
       "      <td>Solar</td>\n",
       "      <td>0.00</td>\n",
       "    </tr>\n",
       "    <tr>\n",
       "      <th>13925</th>\n",
       "      <td>Ireland</td>\n",
       "      <td>IRL</td>\n",
       "      <td>12</td>\n",
       "      <td>Wind</td>\n",
       "      <td>1.03</td>\n",
       "    </tr>\n",
       "    <tr>\n",
       "      <th>1604</th>\n",
       "      <td>Ireland</td>\n",
       "      <td>IRL</td>\n",
       "      <td>12</td>\n",
       "      <td>Demand</td>\n",
       "      <td>3.21</td>\n",
       "    </tr>\n",
       "  </tbody>\n",
       "</table>\n",
       "</div>"
      ],
      "text/plain": [
       "        entity entity_code month        series  generation_twh_old\n",
       "13918  Ireland         IRL    12     Bioenergy                0.01\n",
       "13919  Ireland         IRL    12          Coal                0.23\n",
       "13920  Ireland         IRL    12           Gas                1.40\n",
       "13921  Ireland         IRL    12         Hydro                0.09\n",
       "13922  Ireland         IRL    12   Net imports                0.25\n",
       "13923  Ireland         IRL    12  Other fossil                0.20\n",
       "13924  Ireland         IRL    12         Solar                0.00\n",
       "13925  Ireland         IRL    12          Wind                1.03\n",
       "1604   Ireland         IRL    12        Demand                3.21"
      ]
     },
     "execution_count": 21,
     "metadata": {},
     "output_type": "execute_result"
    }
   ],
   "source": [
    "df_old[(df_old.entity_code == 'IRL') & (df_old.month == '12')]"
   ]
  },
  {
   "cell_type": "markdown",
   "id": "95329e57",
   "metadata": {},
   "source": [
    "#### We merge the 'old' and 'new'"
   ]
  },
  {
   "cell_type": "code",
   "execution_count": 22,
   "id": "aaea9847",
   "metadata": {},
   "outputs": [],
   "source": [
    "df_all = pd.merge(\n",
    "        df_old, df_new, how=\"inner\", on=[\"entity\", \"entity_code\", \"series\", \"month\"]\n",
    "    )"
   ]
  },
  {
   "cell_type": "markdown",
   "id": "abd25bb1",
   "metadata": {},
   "source": [
    "#### We rename some categories"
   ]
  },
  {
   "cell_type": "code",
   "execution_count": 23,
   "id": "9e095088",
   "metadata": {},
   "outputs": [],
   "source": [
    "df_all[\"series\"] = df_all[\"series\"].apply(\n",
    "        lambda x: (\n",
    "            \"Other\"\n",
    "            if x in [\"Bioenergy\", \"Net imports\", \"Other renewables\", \"Other fossil\"]\n",
    "            else x\n",
    "        )\n",
    "    )\n",
    "df_all = df_all.fillna(0)"
   ]
  },
  {
   "cell_type": "markdown",
   "id": "2a82bb48",
   "metadata": {},
   "source": [
    "### Data checks"
   ]
  },
  {
   "cell_type": "code",
   "execution_count": 24,
   "id": "ace1c99a",
   "metadata": {},
   "outputs": [],
   "source": [
    "combinations = [(x, y) for x in iso_codes for y in months_expected]\n",
    "expected_outcome = pd.DataFrame(combinations, columns=['entity_code', 'month'])"
   ]
  },
  {
   "cell_type": "markdown",
   "id": "00bcd321",
   "metadata": {},
   "source": [
    "#### Missing countries in generation - Old"
   ]
  },
  {
   "cell_type": "code",
   "execution_count": 25,
   "id": "c35cf117",
   "metadata": {},
   "outputs": [
    {
     "data": {
      "text/html": [
       "<div>\n",
       "<style scoped>\n",
       "    .dataframe tbody tr th:only-of-type {\n",
       "        vertical-align: middle;\n",
       "    }\n",
       "\n",
       "    .dataframe tbody tr th {\n",
       "        vertical-align: top;\n",
       "    }\n",
       "\n",
       "    .dataframe thead th {\n",
       "        text-align: right;\n",
       "    }\n",
       "</style>\n",
       "<table border=\"1\" class=\"dataframe\">\n",
       "  <thead>\n",
       "    <tr style=\"text-align: right;\">\n",
       "      <th></th>\n",
       "      <th>entity_code</th>\n",
       "      <th>month</th>\n",
       "    </tr>\n",
       "  </thead>\n",
       "  <tbody>\n",
       "    <tr>\n",
       "      <th>0</th>\n",
       "      <td>ALB</td>\n",
       "      <td>12</td>\n",
       "    </tr>\n",
       "    <tr>\n",
       "      <th>1</th>\n",
       "      <td>ALB</td>\n",
       "      <td>11</td>\n",
       "    </tr>\n",
       "    <tr>\n",
       "      <th>2</th>\n",
       "      <td>ALB</td>\n",
       "      <td>10</td>\n",
       "    </tr>\n",
       "    <tr>\n",
       "      <th>3</th>\n",
       "      <td>ALB</td>\n",
       "      <td>09</td>\n",
       "    </tr>\n",
       "    <tr>\n",
       "      <th>4</th>\n",
       "      <td>ALB</td>\n",
       "      <td>08</td>\n",
       "    </tr>\n",
       "    <tr>\n",
       "      <th>5</th>\n",
       "      <td>ALB</td>\n",
       "      <td>07</td>\n",
       "    </tr>\n",
       "    <tr>\n",
       "      <th>6</th>\n",
       "      <td>ALB</td>\n",
       "      <td>06</td>\n",
       "    </tr>\n",
       "    <tr>\n",
       "      <th>7</th>\n",
       "      <td>ALB</td>\n",
       "      <td>05</td>\n",
       "    </tr>\n",
       "    <tr>\n",
       "      <th>8</th>\n",
       "      <td>ALB</td>\n",
       "      <td>04</td>\n",
       "    </tr>\n",
       "    <tr>\n",
       "      <th>9</th>\n",
       "      <td>ALB</td>\n",
       "      <td>03</td>\n",
       "    </tr>\n",
       "    <tr>\n",
       "      <th>10</th>\n",
       "      <td>ALB</td>\n",
       "      <td>02</td>\n",
       "    </tr>\n",
       "    <tr>\n",
       "      <th>11</th>\n",
       "      <td>ALB</td>\n",
       "      <td>01</td>\n",
       "    </tr>\n",
       "  </tbody>\n",
       "</table>\n",
       "</div>"
      ],
      "text/plain": [
       "   entity_code month\n",
       "0          ALB    12\n",
       "1          ALB    11\n",
       "2          ALB    10\n",
       "3          ALB    09\n",
       "4          ALB    08\n",
       "5          ALB    07\n",
       "6          ALB    06\n",
       "7          ALB    05\n",
       "8          ALB    04\n",
       "9          ALB    03\n",
       "10         ALB    02\n",
       "11         ALB    01"
      ]
     },
     "execution_count": 25,
     "metadata": {},
     "output_type": "execute_result"
    }
   ],
   "source": [
    "df_generation_old_check = df_generation_old[df_generation_old.generation_twh_old > 0]\n",
    "df_generation_old_check = df_generation_old_check[['entity_code','month']].drop_duplicates()\n",
    "\n",
    "expected_outcome[~expected_outcome.set_index(['entity_code','month']).index.isin(df_generation_old_check.set_index(['entity_code','month']).index)]"
   ]
  },
  {
   "cell_type": "markdown",
   "id": "ad9a92cf",
   "metadata": {},
   "source": [
    "#### Missing countries in demand - Old"
   ]
  },
  {
   "cell_type": "code",
   "execution_count": 26,
   "id": "2684cfad",
   "metadata": {},
   "outputs": [
    {
     "data": {
      "text/html": [
       "<div>\n",
       "<style scoped>\n",
       "    .dataframe tbody tr th:only-of-type {\n",
       "        vertical-align: middle;\n",
       "    }\n",
       "\n",
       "    .dataframe tbody tr th {\n",
       "        vertical-align: top;\n",
       "    }\n",
       "\n",
       "    .dataframe thead th {\n",
       "        text-align: right;\n",
       "    }\n",
       "</style>\n",
       "<table border=\"1\" class=\"dataframe\">\n",
       "  <thead>\n",
       "    <tr style=\"text-align: right;\">\n",
       "      <th></th>\n",
       "      <th>entity_code</th>\n",
       "      <th>month</th>\n",
       "    </tr>\n",
       "  </thead>\n",
       "  <tbody>\n",
       "    <tr>\n",
       "      <th>0</th>\n",
       "      <td>ALB</td>\n",
       "      <td>12</td>\n",
       "    </tr>\n",
       "    <tr>\n",
       "      <th>1</th>\n",
       "      <td>ALB</td>\n",
       "      <td>11</td>\n",
       "    </tr>\n",
       "    <tr>\n",
       "      <th>2</th>\n",
       "      <td>ALB</td>\n",
       "      <td>10</td>\n",
       "    </tr>\n",
       "    <tr>\n",
       "      <th>3</th>\n",
       "      <td>ALB</td>\n",
       "      <td>09</td>\n",
       "    </tr>\n",
       "    <tr>\n",
       "      <th>4</th>\n",
       "      <td>ALB</td>\n",
       "      <td>08</td>\n",
       "    </tr>\n",
       "    <tr>\n",
       "      <th>5</th>\n",
       "      <td>ALB</td>\n",
       "      <td>07</td>\n",
       "    </tr>\n",
       "    <tr>\n",
       "      <th>6</th>\n",
       "      <td>ALB</td>\n",
       "      <td>06</td>\n",
       "    </tr>\n",
       "    <tr>\n",
       "      <th>7</th>\n",
       "      <td>ALB</td>\n",
       "      <td>05</td>\n",
       "    </tr>\n",
       "    <tr>\n",
       "      <th>8</th>\n",
       "      <td>ALB</td>\n",
       "      <td>04</td>\n",
       "    </tr>\n",
       "    <tr>\n",
       "      <th>9</th>\n",
       "      <td>ALB</td>\n",
       "      <td>03</td>\n",
       "    </tr>\n",
       "    <tr>\n",
       "      <th>10</th>\n",
       "      <td>ALB</td>\n",
       "      <td>02</td>\n",
       "    </tr>\n",
       "    <tr>\n",
       "      <th>11</th>\n",
       "      <td>ALB</td>\n",
       "      <td>01</td>\n",
       "    </tr>\n",
       "  </tbody>\n",
       "</table>\n",
       "</div>"
      ],
      "text/plain": [
       "   entity_code month\n",
       "0          ALB    12\n",
       "1          ALB    11\n",
       "2          ALB    10\n",
       "3          ALB    09\n",
       "4          ALB    08\n",
       "5          ALB    07\n",
       "6          ALB    06\n",
       "7          ALB    05\n",
       "8          ALB    04\n",
       "9          ALB    03\n",
       "10         ALB    02\n",
       "11         ALB    01"
      ]
     },
     "execution_count": 26,
     "metadata": {},
     "output_type": "execute_result"
    }
   ],
   "source": [
    "df_demand_old_check = df_demand_old[df_demand_old.generation_twh_old > 0]\n",
    "df_demand_old_check = df_demand_old_check[['entity_code','month']].drop_duplicates()\n",
    "\n",
    "expected_outcome[~expected_outcome.set_index(['entity_code','month']).index.isin(df_demand_old_check.set_index(['entity_code','month']).index)]"
   ]
  },
  {
   "cell_type": "markdown",
   "id": "a4df3406",
   "metadata": {},
   "source": [
    "#### Missing countries in generation - New"
   ]
  },
  {
   "cell_type": "code",
   "execution_count": 27,
   "id": "7e2a6224",
   "metadata": {},
   "outputs": [
    {
     "data": {
      "text/html": [
       "<div>\n",
       "<style scoped>\n",
       "    .dataframe tbody tr th:only-of-type {\n",
       "        vertical-align: middle;\n",
       "    }\n",
       "\n",
       "    .dataframe tbody tr th {\n",
       "        vertical-align: top;\n",
       "    }\n",
       "\n",
       "    .dataframe thead th {\n",
       "        text-align: right;\n",
       "    }\n",
       "</style>\n",
       "<table border=\"1\" class=\"dataframe\">\n",
       "  <thead>\n",
       "    <tr style=\"text-align: right;\">\n",
       "      <th></th>\n",
       "      <th>entity_code</th>\n",
       "      <th>month</th>\n",
       "    </tr>\n",
       "  </thead>\n",
       "  <tbody>\n",
       "    <tr>\n",
       "      <th>0</th>\n",
       "      <td>ALB</td>\n",
       "      <td>12</td>\n",
       "    </tr>\n",
       "    <tr>\n",
       "      <th>1</th>\n",
       "      <td>ALB</td>\n",
       "      <td>11</td>\n",
       "    </tr>\n",
       "    <tr>\n",
       "      <th>2</th>\n",
       "      <td>ALB</td>\n",
       "      <td>10</td>\n",
       "    </tr>\n",
       "    <tr>\n",
       "      <th>3</th>\n",
       "      <td>ALB</td>\n",
       "      <td>09</td>\n",
       "    </tr>\n",
       "    <tr>\n",
       "      <th>4</th>\n",
       "      <td>ALB</td>\n",
       "      <td>08</td>\n",
       "    </tr>\n",
       "    <tr>\n",
       "      <th>5</th>\n",
       "      <td>ALB</td>\n",
       "      <td>07</td>\n",
       "    </tr>\n",
       "    <tr>\n",
       "      <th>6</th>\n",
       "      <td>ALB</td>\n",
       "      <td>06</td>\n",
       "    </tr>\n",
       "    <tr>\n",
       "      <th>7</th>\n",
       "      <td>ALB</td>\n",
       "      <td>05</td>\n",
       "    </tr>\n",
       "    <tr>\n",
       "      <th>8</th>\n",
       "      <td>ALB</td>\n",
       "      <td>04</td>\n",
       "    </tr>\n",
       "    <tr>\n",
       "      <th>9</th>\n",
       "      <td>ALB</td>\n",
       "      <td>03</td>\n",
       "    </tr>\n",
       "    <tr>\n",
       "      <th>10</th>\n",
       "      <td>ALB</td>\n",
       "      <td>02</td>\n",
       "    </tr>\n",
       "    <tr>\n",
       "      <th>11</th>\n",
       "      <td>ALB</td>\n",
       "      <td>01</td>\n",
       "    </tr>\n",
       "  </tbody>\n",
       "</table>\n",
       "</div>"
      ],
      "text/plain": [
       "   entity_code month\n",
       "0          ALB    12\n",
       "1          ALB    11\n",
       "2          ALB    10\n",
       "3          ALB    09\n",
       "4          ALB    08\n",
       "5          ALB    07\n",
       "6          ALB    06\n",
       "7          ALB    05\n",
       "8          ALB    04\n",
       "9          ALB    03\n",
       "10         ALB    02\n",
       "11         ALB    01"
      ]
     },
     "execution_count": 27,
     "metadata": {},
     "output_type": "execute_result"
    }
   ],
   "source": [
    "df_demand_new_check = df_demand_new[df_demand_new.generation_twh_new > 0]\n",
    "df_demand_new_check = df_demand_new_check[['entity_code','month']].drop_duplicates()\n",
    "\n",
    "expected_outcome[~expected_outcome.set_index(['entity_code','month']).index.isin(df_demand_new_check.set_index(['entity_code','month']).index)]"
   ]
  },
  {
   "cell_type": "markdown",
   "id": "170fee81",
   "metadata": {},
   "source": [
    "#### Missing countries in demand - New"
   ]
  },
  {
   "cell_type": "code",
   "execution_count": 28,
   "id": "27c351c7",
   "metadata": {},
   "outputs": [
    {
     "data": {
      "text/html": [
       "<div>\n",
       "<style scoped>\n",
       "    .dataframe tbody tr th:only-of-type {\n",
       "        vertical-align: middle;\n",
       "    }\n",
       "\n",
       "    .dataframe tbody tr th {\n",
       "        vertical-align: top;\n",
       "    }\n",
       "\n",
       "    .dataframe thead th {\n",
       "        text-align: right;\n",
       "    }\n",
       "</style>\n",
       "<table border=\"1\" class=\"dataframe\">\n",
       "  <thead>\n",
       "    <tr style=\"text-align: right;\">\n",
       "      <th></th>\n",
       "      <th>entity_code</th>\n",
       "      <th>month</th>\n",
       "    </tr>\n",
       "  </thead>\n",
       "  <tbody>\n",
       "    <tr>\n",
       "      <th>0</th>\n",
       "      <td>ALB</td>\n",
       "      <td>12</td>\n",
       "    </tr>\n",
       "    <tr>\n",
       "      <th>1</th>\n",
       "      <td>ALB</td>\n",
       "      <td>11</td>\n",
       "    </tr>\n",
       "    <tr>\n",
       "      <th>2</th>\n",
       "      <td>ALB</td>\n",
       "      <td>10</td>\n",
       "    </tr>\n",
       "    <tr>\n",
       "      <th>3</th>\n",
       "      <td>ALB</td>\n",
       "      <td>09</td>\n",
       "    </tr>\n",
       "    <tr>\n",
       "      <th>4</th>\n",
       "      <td>ALB</td>\n",
       "      <td>08</td>\n",
       "    </tr>\n",
       "    <tr>\n",
       "      <th>5</th>\n",
       "      <td>ALB</td>\n",
       "      <td>07</td>\n",
       "    </tr>\n",
       "    <tr>\n",
       "      <th>6</th>\n",
       "      <td>ALB</td>\n",
       "      <td>06</td>\n",
       "    </tr>\n",
       "    <tr>\n",
       "      <th>7</th>\n",
       "      <td>ALB</td>\n",
       "      <td>05</td>\n",
       "    </tr>\n",
       "    <tr>\n",
       "      <th>8</th>\n",
       "      <td>ALB</td>\n",
       "      <td>04</td>\n",
       "    </tr>\n",
       "    <tr>\n",
       "      <th>9</th>\n",
       "      <td>ALB</td>\n",
       "      <td>03</td>\n",
       "    </tr>\n",
       "    <tr>\n",
       "      <th>10</th>\n",
       "      <td>ALB</td>\n",
       "      <td>02</td>\n",
       "    </tr>\n",
       "    <tr>\n",
       "      <th>11</th>\n",
       "      <td>ALB</td>\n",
       "      <td>01</td>\n",
       "    </tr>\n",
       "  </tbody>\n",
       "</table>\n",
       "</div>"
      ],
      "text/plain": [
       "   entity_code month\n",
       "0          ALB    12\n",
       "1          ALB    11\n",
       "2          ALB    10\n",
       "3          ALB    09\n",
       "4          ALB    08\n",
       "5          ALB    07\n",
       "6          ALB    06\n",
       "7          ALB    05\n",
       "8          ALB    04\n",
       "9          ALB    03\n",
       "10         ALB    02\n",
       "11         ALB    01"
      ]
     },
     "execution_count": 28,
     "metadata": {},
     "output_type": "execute_result"
    }
   ],
   "source": [
    "df_generation_new_check = df_generation_new[df_generation_new.generation_twh_new > 0]\n",
    "df_generation_new_check = df_generation_new_check[['entity_code','month']].drop_duplicates()\n",
    "\n",
    "expected_outcome[~expected_outcome.set_index(['entity_code','month']).index.isin(df_generation_new_check.set_index(['entity_code','month']).index)]"
   ]
  },
  {
   "cell_type": "code",
   "execution_count": 29,
   "id": "f9f6dab3",
   "metadata": {},
   "outputs": [
    {
     "data": {
      "text/html": [
       "<div>\n",
       "<style scoped>\n",
       "    .dataframe tbody tr th:only-of-type {\n",
       "        vertical-align: middle;\n",
       "    }\n",
       "\n",
       "    .dataframe tbody tr th {\n",
       "        vertical-align: top;\n",
       "    }\n",
       "\n",
       "    .dataframe thead th {\n",
       "        text-align: right;\n",
       "    }\n",
       "</style>\n",
       "<table border=\"1\" class=\"dataframe\">\n",
       "  <thead>\n",
       "    <tr style=\"text-align: right;\">\n",
       "      <th></th>\n",
       "      <th>entity</th>\n",
       "      <th>entity_code</th>\n",
       "      <th>month</th>\n",
       "      <th>series</th>\n",
       "      <th>generation_twh_old</th>\n",
       "      <th>generation_twh_new</th>\n",
       "      <th>date</th>\n",
       "    </tr>\n",
       "  </thead>\n",
       "  <tbody>\n",
       "  </tbody>\n",
       "</table>\n",
       "</div>"
      ],
      "text/plain": [
       "Empty DataFrame\n",
       "Columns: [entity, entity_code, month, series, generation_twh_old, generation_twh_new, date]\n",
       "Index: []"
      ]
     },
     "execution_count": 29,
     "metadata": {},
     "output_type": "execute_result"
    }
   ],
   "source": [
    "df_all[df_all.date == 0]"
   ]
  },
  {
   "cell_type": "markdown",
   "id": "6325c119",
   "metadata": {},
   "source": [
    "### Final data extraction"
   ]
  },
  {
   "cell_type": "markdown",
   "id": "28321988",
   "metadata": {},
   "source": [
    "#### We extract what we need"
   ]
  },
  {
   "cell_type": "code",
   "execution_count": 30,
   "id": "bd836b7c",
   "metadata": {},
   "outputs": [],
   "source": [
    "output_rolling_year = (\n",
    "        df_all[\n",
    "            [\"month\", \"series\", \"date\", \"generation_twh_old\", \"generation_twh_new\"]\n",
    "        ]\n",
    "        .groupby([\"month\", \"series\", \"date\"])\n",
    "        .sum()\n",
    "        .reset_index()\n",
    "    )\n",
    "output_rolling_year[\"y-o-y change\"] = (\n",
    "        output_rolling_year[\"generation_twh_new\"]\n",
    "        - output_rolling_year[\"generation_twh_old\"]\n",
    "    )"
   ]
  },
  {
   "cell_type": "code",
   "execution_count": 31,
   "id": "9149fad8",
   "metadata": {},
   "outputs": [],
   "source": [
    "cwd = os.getcwd()\n",
    "excel_path_rolling_year = os.path.join(cwd, \"data_rolling_year.xlsx\")\n",
    "output_rolling_year.to_excel(excel_path_rolling_year, index=False)"
   ]
  },
  {
   "cell_type": "code",
   "execution_count": 32,
   "id": "8f6c395f",
   "metadata": {
    "scrolled": true
   },
   "outputs": [
    {
     "data": {
      "text/plain": [
       "'/Users/acas/Dropbox/GitHub/Quarterly-slides/data_rolling_year.xlsx'"
      ]
     },
     "execution_count": 32,
     "metadata": {},
     "output_type": "execute_result"
    }
   ],
   "source": [
    "excel_path_rolling_year"
   ]
  },
  {
   "cell_type": "code",
   "execution_count": 33,
   "id": "21978d6d",
   "metadata": {},
   "outputs": [
    {
     "data": {
      "text/html": [
       "<div>\n",
       "<style scoped>\n",
       "    .dataframe tbody tr th:only-of-type {\n",
       "        vertical-align: middle;\n",
       "    }\n",
       "\n",
       "    .dataframe tbody tr th {\n",
       "        vertical-align: top;\n",
       "    }\n",
       "\n",
       "    .dataframe thead th {\n",
       "        text-align: right;\n",
       "    }\n",
       "</style>\n",
       "<table border=\"1\" class=\"dataframe\">\n",
       "  <thead>\n",
       "    <tr style=\"text-align: right;\">\n",
       "      <th></th>\n",
       "      <th>month</th>\n",
       "      <th>series</th>\n",
       "      <th>date</th>\n",
       "      <th>generation_twh_old</th>\n",
       "      <th>generation_twh_new</th>\n",
       "      <th>y-o-y change</th>\n",
       "    </tr>\n",
       "  </thead>\n",
       "  <tbody>\n",
       "    <tr>\n",
       "      <th>0</th>\n",
       "      <td>01</td>\n",
       "      <td>Coal</td>\n",
       "      <td>2023-01-01</td>\n",
       "      <td>55.03</td>\n",
       "      <td>51.81</td>\n",
       "      <td>-3.22</td>\n",
       "    </tr>\n",
       "    <tr>\n",
       "      <th>1</th>\n",
       "      <td>01</td>\n",
       "      <td>Demand</td>\n",
       "      <td>2023-01-01</td>\n",
       "      <td>338.62</td>\n",
       "      <td>317.45</td>\n",
       "      <td>-21.17</td>\n",
       "    </tr>\n",
       "    <tr>\n",
       "      <th>2</th>\n",
       "      <td>01</td>\n",
       "      <td>Gas</td>\n",
       "      <td>2023-01-01</td>\n",
       "      <td>72.77</td>\n",
       "      <td>54.47</td>\n",
       "      <td>-18.30</td>\n",
       "    </tr>\n",
       "    <tr>\n",
       "      <th>3</th>\n",
       "      <td>01</td>\n",
       "      <td>Hydro</td>\n",
       "      <td>2023-01-01</td>\n",
       "      <td>48.95</td>\n",
       "      <td>50.16</td>\n",
       "      <td>1.21</td>\n",
       "    </tr>\n",
       "    <tr>\n",
       "      <th>4</th>\n",
       "      <td>01</td>\n",
       "      <td>Nuclear</td>\n",
       "      <td>2023-01-01</td>\n",
       "      <td>69.91</td>\n",
       "      <td>63.08</td>\n",
       "      <td>-6.83</td>\n",
       "    </tr>\n",
       "    <tr>\n",
       "      <th>...</th>\n",
       "      <td>...</td>\n",
       "      <td>...</td>\n",
       "      <td>...</td>\n",
       "      <td>...</td>\n",
       "      <td>...</td>\n",
       "      <td>...</td>\n",
       "    </tr>\n",
       "    <tr>\n",
       "      <th>91</th>\n",
       "      <td>12</td>\n",
       "      <td>Hydro</td>\n",
       "      <td>2023-12-01</td>\n",
       "      <td>47.35</td>\n",
       "      <td>58.69</td>\n",
       "      <td>11.34</td>\n",
       "    </tr>\n",
       "    <tr>\n",
       "      <th>92</th>\n",
       "      <td>12</td>\n",
       "      <td>Nuclear</td>\n",
       "      <td>2023-12-01</td>\n",
       "      <td>60.66</td>\n",
       "      <td>62.21</td>\n",
       "      <td>1.55</td>\n",
       "    </tr>\n",
       "    <tr>\n",
       "      <th>93</th>\n",
       "      <td>12</td>\n",
       "      <td>Other</td>\n",
       "      <td>2023-12-01</td>\n",
       "      <td>23.39</td>\n",
       "      <td>21.02</td>\n",
       "      <td>-2.37</td>\n",
       "    </tr>\n",
       "    <tr>\n",
       "      <th>94</th>\n",
       "      <td>12</td>\n",
       "      <td>Solar</td>\n",
       "      <td>2023-12-01</td>\n",
       "      <td>5.57</td>\n",
       "      <td>8.36</td>\n",
       "      <td>2.79</td>\n",
       "    </tr>\n",
       "    <tr>\n",
       "      <th>95</th>\n",
       "      <td>12</td>\n",
       "      <td>Wind</td>\n",
       "      <td>2023-12-01</td>\n",
       "      <td>52.48</td>\n",
       "      <td>69.78</td>\n",
       "      <td>17.30</td>\n",
       "    </tr>\n",
       "  </tbody>\n",
       "</table>\n",
       "<p>96 rows × 6 columns</p>\n",
       "</div>"
      ],
      "text/plain": [
       "   month   series        date  generation_twh_old  generation_twh_new  \\\n",
       "0     01     Coal  2023-01-01               55.03               51.81   \n",
       "1     01   Demand  2023-01-01              338.62              317.45   \n",
       "2     01      Gas  2023-01-01               72.77               54.47   \n",
       "3     01    Hydro  2023-01-01               48.95               50.16   \n",
       "4     01  Nuclear  2023-01-01               69.91               63.08   \n",
       "..   ...      ...         ...                 ...                 ...   \n",
       "91    12    Hydro  2023-12-01               47.35               58.69   \n",
       "92    12  Nuclear  2023-12-01               60.66               62.21   \n",
       "93    12    Other  2023-12-01               23.39               21.02   \n",
       "94    12    Solar  2023-12-01                5.57                8.36   \n",
       "95    12     Wind  2023-12-01               52.48               69.78   \n",
       "\n",
       "    y-o-y change  \n",
       "0          -3.22  \n",
       "1         -21.17  \n",
       "2         -18.30  \n",
       "3           1.21  \n",
       "4          -6.83  \n",
       "..           ...  \n",
       "91         11.34  \n",
       "92          1.55  \n",
       "93         -2.37  \n",
       "94          2.79  \n",
       "95         17.30  \n",
       "\n",
       "[96 rows x 6 columns]"
      ]
     },
     "execution_count": 33,
     "metadata": {},
     "output_type": "execute_result"
    }
   ],
   "source": [
    "output_rolling_year"
   ]
  }
 ],
 "metadata": {
  "kernelspec": {
   "display_name": "Python 3 (ipykernel)",
   "language": "python",
   "name": "python3"
  },
  "language_info": {
   "codemirror_mode": {
    "name": "ipython",
    "version": 3
   },
   "file_extension": ".py",
   "mimetype": "text/x-python",
   "name": "python",
   "nbconvert_exporter": "python",
   "pygments_lexer": "ipython3",
   "version": "3.9.19"
  }
 },
 "nbformat": 4,
 "nbformat_minor": 5
}

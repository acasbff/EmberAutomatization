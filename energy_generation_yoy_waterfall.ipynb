{
 "cells": [
  {
   "cell_type": "markdown",
   "id": "f6a2df34",
   "metadata": {},
   "source": [
    "## Import packages"
   ]
  },
  {
   "cell_type": "code",
   "execution_count": null,
   "id": "ee75121b",
   "metadata": {
    "scrolled": true
   },
   "outputs": [],
   "source": [
    "import requests\n",
    "import pandas as pd\n",
    "import os\n",
    "import time\n",
    "import numpy as np\n",
    "import matplotlib\n",
    "import matplotlib.pyplot as plt\n",
    "from datetime import datetime"
   ]
  },
  {
   "cell_type": "markdown",
   "id": "ccd28647",
   "metadata": {},
   "source": [
    "## Set the quarter and adjust waterfall settings if needed"
   ]
  },
  {
   "cell_type": "code",
   "execution_count": null,
   "id": "77d7c169",
   "metadata": {},
   "outputs": [],
   "source": [
    "last_month = 6\n",
    "last_year = 2024\n",
    "\n",
    "nbr_months_waterfall = 3\n",
    "\n",
    "# Output file name\n",
    "outputfile = \"Waterfall_ElectricityGeneration_20232024Q2_Python\"\n",
    "\n",
    "# Define which categories should have labels outside, edit in case other fuels need label adjustments\n",
    "outside_labels = ['Nuclear', 'Other']\n",
    "\n",
    "# Define y-axis limits and ticks\n",
    "y_min, y_max = -50, 30  # Adjusted to go a bit above and below the ticks\n",
    "y_ticks = np.arange(-50, 26, 25)"
   ]
  },
  {
   "cell_type": "markdown",
   "id": "4ad05860",
   "metadata": {},
   "source": [
    "## API access parameters"
   ]
  },
  {
   "cell_type": "code",
   "execution_count": null,
   "id": "7dfeb132",
   "metadata": {},
   "outputs": [],
   "source": [
    "my_api_key = \"51356ef8-f7dd-43a1-9629-1965b7830a26\"\n",
    "base_url = \"https://api.ember-climate.org\""
   ]
  },
  {
   "cell_type": "markdown",
   "id": "ce772ac6",
   "metadata": {},
   "source": [
    "## Parameters for the charts"
   ]
  },
  {
   "cell_type": "markdown",
   "id": "2e74b5cf",
   "metadata": {},
   "source": [
    "### Countries to import"
   ]
  },
  {
   "cell_type": "code",
   "execution_count": null,
   "id": "30651f55",
   "metadata": {},
   "outputs": [],
   "source": [
    "iso_codes = [\n",
    "    \"ALB\",  # Albania\n",
    "    \"AUT\",  # Austria\n",
    "    \"BEL\",  # Belgium\n",
    "    \"BIH\",  # Bosnia and Herzegovina\n",
    "    \"BGR\",  # Bulgaria\n",
    "    \"HRV\",  # Croatia\n",
    "    \"CYP\",  # Cyprus\n",
    "    \"CZE\",  # Czech Republic\n",
    "    \"DNK\",  # Denmark\n",
    "    \"EST\",  # Estonia\n",
    "    \"FIN\",  # Finland\n",
    "    \"FRA\",  # France\n",
    "    \"DEU\",  # Germany\n",
    "    \"GRC\",  # Greece\n",
    "    \"HUN\",  # Hungary\n",
    "    \"IRL\",  # Ireland\n",
    "    \"ITA\",  # Italy\n",
    "    \"XKX\",  # Kosovo\n",
    "    \"LVA\",  # Latvia\n",
    "    \"LTU\",  # Lithuania\n",
    "    \"LUX\",  # Luxembourg\n",
    "    \"MLT\",  # Malta\n",
    "    \"MDA\",  # Moldova\n",
    "    \"MNE\",  # Montenegro\n",
    "    \"NLD\",  # Netherlands\n",
    "    \"MKD\",  # North Macedonia\n",
    "    \"NOR\",  # Norway\n",
    "    \"POL\",  # Poland\n",
    "    \"PRT\",  # Portugal\n",
    "    \"ROU\",  # Romania\n",
    "    \"SRB\",  # Serbia\n",
    "    \"SVK\",  # Slovakia\n",
    "    \"SVN\",  # Slovenia\n",
    "    \"ESP\",  # Spain\n",
    "    \"SWE\",  # Sweden\n",
    "    \"CHE\",  # Switzerland\n",
    "    \"TUR\",  # Turkey\n",
    "    \"GBR\",  # United Kingdom\n",
    "]"
   ]
  },
  {
   "cell_type": "markdown",
   "id": "46fc8045",
   "metadata": {},
   "source": [
    "#### Listing the months we will have, based on the parameters we have chosen"
   ]
  },
  {
   "cell_type": "code",
   "execution_count": null,
   "id": "7e59c92c",
   "metadata": {
    "scrolled": true
   },
   "outputs": [],
   "source": [
    "months_old_waterfall = [\n",
    "    f\"{year}-{month:02d}-01\"\n",
    "    for year, month in [\n",
    "        time.localtime(\n",
    "            time.mktime((last_year - 1, last_month - n, 1, 0, 0, 0, 0, 0, 0))\n",
    "        )[:2]\n",
    "        for n in range(nbr_months_waterfall)\n",
    "    ]\n",
    "]\n",
    "months_new_waterfall = [\n",
    "    f\"{year}-{month:02d}-01\"\n",
    "    for year, month in [\n",
    "        time.localtime(\n",
    "            time.mktime((last_year, last_month  - n, 1, 0, 0, 0, 0, 0, 0))\n",
    "        )[:2]\n",
    "        for n in range(nbr_months_waterfall)\n",
    "    ]\n",
    "]\n",
    "months_expected = [\n",
    "    f\"{month:02d}\"\n",
    "    for year, month in [\n",
    "        time.localtime(\n",
    "            time.mktime((last_year, last_month  - n, 1, 0, 0, 0, 0, 0, 0))\n",
    "        )[:2]\n",
    "        for n in range(nbr_months_waterfall)\n",
    "    ]\n",
    "]"
   ]
  },
  {
   "cell_type": "code",
   "execution_count": null,
   "id": "07e49928",
   "metadata": {},
   "outputs": [],
   "source": [
    "months_old_waterfall"
   ]
  },
  {
   "cell_type": "code",
   "execution_count": null,
   "id": "0eab3d99",
   "metadata": {},
   "outputs": [],
   "source": [
    "months_new_waterfall"
   ]
  },
  {
   "cell_type": "markdown",
   "id": "959e1adb",
   "metadata": {},
   "source": [
    "## Running the API"
   ]
  },
  {
   "cell_type": "markdown",
   "id": "96f219ce",
   "metadata": {},
   "source": [
    "### Queries"
   ]
  },
  {
   "cell_type": "code",
   "execution_count": null,
   "id": "f3142d7e",
   "metadata": {},
   "outputs": [],
   "source": [
    "query_url_generation = (\n",
    "    f\"{base_url}/v1/electricity-generation/monthly\"\n",
    "    + f\"?entity_code={','.join(iso_codes)}&is_aggregate_series=false&start_date=2000&api_key={my_api_key}\"\n",
    ")\n",
    "\n",
    "query_url_demand = (\n",
    "    f\"{base_url}/v1/electricity-demand/monthly\"\n",
    "    + f\"?entity_code={','.join(iso_codes)}&is_aggregate_series=false&start_date=2000&api_key={my_api_key}\"\n",
    ")"
   ]
  },
  {
   "cell_type": "code",
   "execution_count": null,
   "id": "56aafa43",
   "metadata": {},
   "outputs": [],
   "source": [
    "query_url_generation"
   ]
  },
  {
   "cell_type": "code",
   "execution_count": null,
   "id": "c2bf7c72",
   "metadata": {},
   "outputs": [],
   "source": [
    "query_url_demand"
   ]
  },
  {
   "cell_type": "markdown",
   "id": "898ab5ac",
   "metadata": {},
   "source": [
    "### Executing the queries. 200 = success"
   ]
  },
  {
   "cell_type": "code",
   "execution_count": null,
   "id": "1e3f5081",
   "metadata": {},
   "outputs": [],
   "source": [
    "response_generation = requests.get(query_url_generation)\n",
    "response_demand = requests.get(query_url_demand)"
   ]
  },
  {
   "cell_type": "code",
   "execution_count": null,
   "id": "136e9ba9",
   "metadata": {},
   "outputs": [],
   "source": [
    "response_generation.status_code"
   ]
  },
  {
   "cell_type": "code",
   "execution_count": null,
   "id": "9ac0ff40",
   "metadata": {
    "scrolled": false
   },
   "outputs": [],
   "source": [
    "response_demand.status_code"
   ]
  },
  {
   "cell_type": "markdown",
   "id": "b066518a",
   "metadata": {},
   "source": [
    "## Extracting the results"
   ]
  },
  {
   "cell_type": "code",
   "execution_count": null,
   "id": "c0b3b325",
   "metadata": {},
   "outputs": [],
   "source": [
    "data_generation = response_generation.json()[\"data\"]\n",
    "data_demand = response_demand.json()[\"data\"]\n",
    "df_generation = pd.DataFrame(data_generation)\n",
    "df_demand = pd.DataFrame(data_demand)"
   ]
  },
  {
   "cell_type": "code",
   "execution_count": null,
   "id": "b043665c",
   "metadata": {},
   "outputs": [],
   "source": [
    "df_generation"
   ]
  },
  {
   "cell_type": "code",
   "execution_count": null,
   "id": "e84204c5",
   "metadata": {},
   "outputs": [],
   "source": [
    "df_demand"
   ]
  },
  {
   "cell_type": "markdown",
   "id": "93d87feb",
   "metadata": {},
   "source": [
    "### Filtering only the data that we need"
   ]
  },
  {
   "cell_type": "markdown",
   "id": "810c8462",
   "metadata": {},
   "source": [
    "#### We extract the month from the date"
   ]
  },
  {
   "cell_type": "code",
   "execution_count": null,
   "id": "76ed2515",
   "metadata": {
    "scrolled": true
   },
   "outputs": [],
   "source": [
    "df_generation[\"month\"] = df_generation[\"date\"].str[5:7]\n",
    "df_demand[\"month\"] = df_demand[\"date\"].str[5:7]"
   ]
  },
  {
   "cell_type": "markdown",
   "id": "34291179",
   "metadata": {},
   "source": [
    "#### We create one table with the current ('new') data, one table with the data we compare with ('old')"
   ]
  },
  {
   "cell_type": "code",
   "execution_count": null,
   "id": "11c67352",
   "metadata": {},
   "outputs": [],
   "source": [
    "df_generation_old = df_generation.loc[\n",
    "        df_generation[\"date\"].isin(months_old_waterfall)\n",
    "    ].copy()\n",
    "df_generation_old[\"generation_twh_old\"] = df_generation_old[\"generation_twh\"]\n",
    "df_generation_old = df_generation_old[\n",
    "        [\"entity\", \"entity_code\", \"month\", \"series\", \"generation_twh_old\"]\n",
    "    ]\n",
    "df_generation_new = df_generation.loc[\n",
    "        df_generation[\"date\"].isin(months_new_waterfall)\n",
    "    ].copy()\n",
    "df_generation_new[\"generation_twh_new\"] = df_generation_new[\"generation_twh\"]\n",
    "df_generation_new = df_generation_new[\n",
    "        [\"entity\", \"entity_code\", \"month\", \"series\", \"generation_twh_new\", \"date\"]\n",
    "    ]"
   ]
  },
  {
   "cell_type": "code",
   "execution_count": null,
   "id": "354dc2e1",
   "metadata": {},
   "outputs": [],
   "source": [
    "df_demand_old = df_demand.loc[df_demand[\"date\"].isin(months_old_waterfall)].copy()\n",
    "df_demand_old[\"series\"] = \"Demand\"\n",
    "df_demand_old[\"generation_twh_old\"] = df_demand_old[\"demand_twh\"]\n",
    "df_demand_old = df_demand_old[\n",
    "        [\"entity\", \"entity_code\", \"month\", \"series\", \"generation_twh_old\"]\n",
    "    ]\n",
    "\n",
    "df_demand_new = df_demand.loc[df_demand[\"date\"].isin(months_new_waterfall)].copy()\n",
    "df_demand_new[\"series\"] = \"Demand\"\n",
    "df_demand_new[\"generation_twh_new\"] = df_demand_new[\"demand_twh\"]\n",
    "df_demand_new = df_demand_new[\n",
    "        [\"entity\", \"entity_code\", \"month\", \"series\", \"generation_twh_new\", \"date\"]\n",
    "    ]"
   ]
  },
  {
   "cell_type": "markdown",
   "id": "a6409fc4",
   "metadata": {},
   "source": [
    "#### We merge generation and demand tables"
   ]
  },
  {
   "cell_type": "code",
   "execution_count": null,
   "id": "9f4c55b1",
   "metadata": {
    "scrolled": true
   },
   "outputs": [],
   "source": [
    "df_old = pd.concat([df_generation_old, df_demand_old])\n",
    "df_new = pd.concat([df_generation_new, df_demand_new])"
   ]
  },
  {
   "cell_type": "markdown",
   "id": "c52c84f6",
   "metadata": {},
   "source": [
    "#### We merge the 'old' and 'new'"
   ]
  },
  {
   "cell_type": "code",
   "execution_count": null,
   "id": "d0fc9319",
   "metadata": {},
   "outputs": [],
   "source": [
    "df_all = pd.merge(\n",
    "        df_old, df_new, how=\"outer\", on=[\"entity\", \"entity_code\", \"series\", \"month\"]\n",
    "    )"
   ]
  },
  {
   "cell_type": "markdown",
   "id": "2177cba7",
   "metadata": {},
   "source": [
    "#### We rename some categories"
   ]
  },
  {
   "cell_type": "code",
   "execution_count": null,
   "id": "9e095088",
   "metadata": {},
   "outputs": [],
   "source": [
    "df_all[\"series\"] = df_all[\"series\"].apply(\n",
    "        lambda x: (\n",
    "            \"Other\"\n",
    "            if x in [\"Bioenergy\", \"Net imports\", \"Other renewables\", \"Other fossil\"]\n",
    "            else x\n",
    "        )\n",
    "    )\n",
    "df_all = df_all.fillna(0)"
   ]
  },
  {
   "cell_type": "markdown",
   "id": "839b2bb0",
   "metadata": {},
   "source": [
    "### Data checks"
   ]
  },
  {
   "cell_type": "code",
   "execution_count": null,
   "id": "ab1d5fb8",
   "metadata": {},
   "outputs": [],
   "source": [
    "combinations = [(x, y) for x in iso_codes for y in months_expected]\n",
    "expected_outcome = pd.DataFrame(combinations, columns=['entity_code', 'month'])"
   ]
  },
  {
   "cell_type": "markdown",
   "id": "2bacd436",
   "metadata": {},
   "source": [
    "#### Missing countries in generation - Old"
   ]
  },
  {
   "cell_type": "code",
   "execution_count": null,
   "id": "0ac97d9a",
   "metadata": {
    "scrolled": true
   },
   "outputs": [],
   "source": [
    "df_generation_old_check = df_generation_old[df_generation_old.generation_twh_old > 0]\n",
    "df_generation_old_check = df_generation_old_check[['entity_code','month']].drop_duplicates()\n",
    "\n",
    "expected_outcome[~expected_outcome.set_index(['entity_code','month']).index.isin(df_generation_old_check.set_index(['entity_code','month']).index)]"
   ]
  },
  {
   "cell_type": "markdown",
   "id": "569a700d",
   "metadata": {},
   "source": [
    "#### Missing countries in demand - Old"
   ]
  },
  {
   "cell_type": "code",
   "execution_count": null,
   "id": "2de97b20",
   "metadata": {
    "scrolled": true
   },
   "outputs": [],
   "source": [
    "df_demand_old_check = df_demand_old[df_demand_old.generation_twh_old > 0]\n",
    "df_demand_old_check = df_demand_old_check[['entity_code','month']].drop_duplicates()\n",
    "\n",
    "expected_outcome[~expected_outcome.set_index(['entity_code','month']).index.isin(df_demand_old_check.set_index(['entity_code','month']).index)]"
   ]
  },
  {
   "cell_type": "markdown",
   "id": "3955cd1f",
   "metadata": {},
   "source": [
    "#### Missing countries in generation - New"
   ]
  },
  {
   "cell_type": "code",
   "execution_count": null,
   "id": "49f898e4",
   "metadata": {
    "scrolled": true
   },
   "outputs": [],
   "source": [
    "df_demand_new_check = df_demand_new[df_demand_new.generation_twh_new > 0]\n",
    "df_demand_new_check = df_demand_new_check[['entity_code','month']].drop_duplicates()\n",
    "\n",
    "expected_outcome[~expected_outcome.set_index(['entity_code','month']).index.isin(df_demand_new_check.set_index(['entity_code','month']).index)]"
   ]
  },
  {
   "cell_type": "markdown",
   "id": "345906ea",
   "metadata": {},
   "source": [
    "#### Missing countries in demand - New"
   ]
  },
  {
   "cell_type": "code",
   "execution_count": null,
   "id": "7f65059b",
   "metadata": {
    "scrolled": true
   },
   "outputs": [],
   "source": [
    "df_generation_new_check = df_generation_new[df_generation_new.generation_twh_new > 0]\n",
    "df_generation_new_check = df_generation_new_check[['entity_code','month']].drop_duplicates()\n",
    "\n",
    "expected_outcome[~expected_outcome.set_index(['entity_code','month']).index.isin(df_generation_new_check.set_index(['entity_code','month']).index)]"
   ]
  },
  {
   "cell_type": "markdown",
   "id": "fd734f92",
   "metadata": {},
   "source": [
    "### Final data extraction"
   ]
  },
  {
   "cell_type": "markdown",
   "id": "1df57833",
   "metadata": {},
   "source": [
    "#### We extract what we need"
   ]
  },
  {
   "cell_type": "code",
   "execution_count": null,
   "id": "89bc0bdb",
   "metadata": {},
   "outputs": [],
   "source": [
    "output_waterfall = (\n",
    "        df_all.loc[df_all[\"date\"].isin(months_new_waterfall)][\n",
    "            [\"series\", \"generation_twh_old\", \"generation_twh_new\"]\n",
    "        ]\n",
    "        .groupby([\"series\"])\n",
    "        .sum()\n",
    "        .reset_index()\n",
    "    )\n",
    "output_waterfall[\"y-o-y change\"] = (\n",
    "        output_waterfall[\"generation_twh_new\"] - output_waterfall[\"generation_twh_old\"]\n",
    "    )"
   ]
  },
  {
   "cell_type": "code",
   "execution_count": null,
   "id": "9149fad8",
   "metadata": {},
   "outputs": [],
   "source": [
    "cwd = os.getcwd()\n",
    "excel_path_waterfall = os.path.join(cwd,\"data_waterfall.xlsx\")\n",
    "output_waterfall.to_excel(excel_path_waterfall, index=False)"
   ]
  },
  {
   "cell_type": "code",
   "execution_count": null,
   "id": "d9b449bf",
   "metadata": {
    "scrolled": true
   },
   "outputs": [],
   "source": [
    "output_waterfall"
   ]
  },
  {
   "cell_type": "markdown",
   "id": "476dae1f",
   "metadata": {},
   "source": [
    "# Waterfall graphic"
   ]
  },
  {
   "cell_type": "markdown",
   "id": "debee383",
   "metadata": {},
   "source": [
    "## Define source data, labels and colors"
   ]
  },
  {
   "cell_type": "code",
   "execution_count": null,
   "id": "786f9106",
   "metadata": {},
   "outputs": [],
   "source": [
    "plt.close('all')\n",
    "matplotlib.use('Agg')\n",
    "plt.rcParams['pdf.fonttype'] = 42\n",
    "plt.rcParams['text.usetex'] = False\n",
    "#plt.rcParams['font.family'] = 'Open Sans'  # Or 'Montserrat'"
   ]
  },
  {
   "cell_type": "code",
   "execution_count": null,
   "id": "d006634a",
   "metadata": {},
   "outputs": [],
   "source": [
    "# Load the data\n",
    "data = output_waterfall\n",
    "\n",
    "# Define quarter title, subtitle and axis title label\n",
    "old_from = datetime.strptime(months_old_waterfall[-1], '%Y-%m-%d').strftime('%B %Y')\n",
    "old_to = datetime.strptime(months_old_waterfall[0], '%Y-%m-%d').strftime('%B %Y')\n",
    "new_from = datetime.strptime(months_new_waterfall[-1], '%Y-%m-%d').strftime('%B %Y')\n",
    "new_to = datetime.strptime(months_new_waterfall[0], '%Y-%m-%d').strftime('%B %Y')\n",
    "title = \"EUROPE: year-on-year change in electricity generation by fuel in the last quarter\"\n",
    "months_old_waterfall\n",
    "subtitle = f\"{old_from} - {old_to} versus {new_from} - {new_to}\"\n",
    "month_from = datetime.strptime(months_new_waterfall[-1], '%Y-%m-%d').strftime('%B')\n",
    "month_to = datetime.strptime(months_new_waterfall[0], '%Y-%m-%d').strftime('%B')\n",
    "quarter = f\"{month_from}-{month_to}\""
   ]
  },
  {
   "cell_type": "markdown",
   "id": "3a924815",
   "metadata": {},
   "source": [
    "## Chart"
   ]
  },
  {
   "cell_type": "code",
   "execution_count": null,
   "id": "800c22f2",
   "metadata": {},
   "outputs": [],
   "source": [
    "# Define the order you want\n",
    "order = [\"Coal\", \"Gas\", \"Nuclear\", \"Hydro\", \"Solar\", \"Wind\", \"Other\", \"Demand\"]\n",
    "colors = [\"#475865\", \"#8B969F\", \"#FFA401\", \"#76C8F1\", \"#FEC814\", \"#1FDA4B\", \"#98C4D1\", \"#E0187B\"]\n",
    "\n",
    "# Ensure 'series' is treated as a categorical type with the defined order\n",
    "data['series'] = pd.Categorical(data['series'], categories=order, ordered=True)\n",
    "\n",
    "# Sort the DataFrame based on the categorical order and reset the index\n",
    "data = data.sort_values('series').reset_index(drop=True)\n",
    "\n",
    "# Define the correct colors\n",
    "\n",
    "data['Color'] = colors[:len(data)]\n",
    "\n",
    "# Calculate the cumulative sum for positioning each bar\n",
    "data['Cumulative'] = data['y-o-y change'].cumsum()\n",
    "data['Position'] = data['Cumulative'] - data['y-o-y change']\n",
    "\n",
    "# Manually adjust the 'Position' and 'Cumulative' for \"Demand\"\n",
    "for i, row in data.iterrows():\n",
    "    if row['series'] == \"Demand\":\n",
    "        if row['y-o-y change'] > 0:\n",
    "            data.at[i, 'Position'] = data.at[i, 'Cumulative'] - row['y-o-y change']\n",
    "            data.at[i, 'y-o-y change'] = -row['y-o-y change']  # Invert the value for plotting\n",
    "        else:\n",
    "            data.at[i, 'Position'] = data.at[i, 'Cumulative'] - row['y-o-y change']\n",
    "\n",
    "\n",
    "# Plot the waterfall chart\n",
    "fig, ax = plt.subplots(figsize=(7.2, 4))\n",
    "\n",
    "bar_width = 0.8\n",
    "\n",
    "# Plot bars and connecting lines\n",
    "for i, row in data.iterrows():\n",
    "    bar = ax.bar(row['series'], row['y-o-y change'], bottom=row['Position'], color=row['Color'], width=bar_width)\n",
    "    if i < len(data) - 1:  # Draw connecting line to the next bar\n",
    "        next_row = data.iloc[i + 1]\n",
    "        line_position = row['Position'] + row['y-o-y change']\n",
    "        ax.plot([i - bar_width / 2, i + bar_width / 2 + 1], [line_position, line_position], color='black')\n",
    "\n",
    "# Add labels and values\n",
    "for i, row in data.iterrows():\n",
    "    if row['series'] == \"Demand\":\n",
    "        value_text = f\"+{abs(row['y-o-y change']):.1f}\"\n",
    "    else:\n",
    "        value_text = f\"+{row['y-o-y change']:.1f}\" if row['y-o-y change'] > 0 else f\"{row['y-o-y change']:.1f}\"\n",
    "    \n",
    "    if row['series'] in outside_labels:\n",
    "        if row['y-o-y change'] > 0:\n",
    "            value_position = row['Position'] + row['y-o-y change'] + 1\n",
    "            label_position = value_position + 3\n",
    "            ax.text(i, value_position, value_text, ha='center', va='bottom', fontsize=8, color='black')\n",
    "            ax.text(i, label_position, row['series'], ha='center', va='bottom', fontsize=8, color='black')\n",
    "        else:\n",
    "            line_position = row['Position'] + row['y-o-y change']\n",
    "            label_position = line_position - 4\n",
    "            value_position = label_position - 3\n",
    "            ax.text(i, label_position, row['series'], ha='center', va='bottom', fontsize=8, color='black')\n",
    "            ax.text(i, value_position, value_text, ha='center', va='bottom', fontsize=8, color='black')\n",
    "    else:\n",
    "        ax.text(i, row['Position'] + row['y-o-y change'] / 2 + 2, row['series'], ha='center', va='center', fontsize=8, color='black')\n",
    "        ax.text(i, row['Position'] + row['y-o-y change'] / 2 - 2, value_text, ha='center', va='center', fontsize=8, color='black')\n",
    "\n",
    "\n",
    "\n",
    "# Customize plot\n",
    "ax.axhline(0, color='gray', linewidth=0.8, zorder=0)\n",
    "ax.set_ylim(y_min, y_max)\n",
    "ax.set_yticks(y_ticks)\n",
    "ax.set_yticklabels([f'{tick}' for tick in y_ticks], fontsize=8)\n",
    "ax.set_xlabel(\"\")\n",
    "ax.set_ylabel(f\"Change in electricity generation {quarter} TWh\", fontsize=8, labelpad=20, ha='center', weight='bold')\n",
    "ax.yaxis.set_label_position(\"left\")\n",
    "ax.yaxis.set_ticks_position('left')  # Add y-axis ticks\n",
    "ax.yaxis.set_tick_params(width=2, color='gray', length=10, direction='inout', labelsize=8)  # Customize y ticks appearance\n",
    "\n",
    "plt.xticks(rotation=45, ha='right', fontsize=8)\n",
    "plt.grid(False)  # Remove grid\n",
    "# Remove all axis lines\n",
    "for spine in ax.spines.values():\n",
    "    spine.set_visible(False)\n",
    "ax.tick_params(axis='x', which='both', bottom=False, top=False, labelbottom=False)  # Remove x axis ticks\n",
    "ax.tick_params(axis='y', which='both', direction='in', length = 10, width = 0.5)  # Remove x axis ticks\n",
    "\n",
    "# Add title and subtitle \n",
    "fig.suptitle(title, fontsize=12, weight='bold', ha='left', fontname='Montserrat', x=0.01, y=0.98)\n",
    "fig.text(0.01, 0.9, subtitle, fontsize=10, ha='left', fontname='Open sans')\n",
    "\n",
    "pdffile = outputfile+'.pdf'\n",
    "plt.tight_layout(rect=[0, 0, 1, 1])\n",
    "extent = ax.get_window_extent().transformed(fig.dpi_scale_trans.inverted())\n",
    "fig.savefig(pdffile, format='pdf', bbox_inches='tight')\n",
    "\n",
    "%matplotlib inline\n",
    "plt.show()"
   ]
  }
 ],
 "metadata": {
  "kernelspec": {
   "display_name": "Python 3 (ipykernel)",
   "language": "python",
   "name": "python3"
  },
  "language_info": {
   "codemirror_mode": {
    "name": "ipython",
    "version": 3
   },
   "file_extension": ".py",
   "mimetype": "text/x-python",
   "name": "python",
   "nbconvert_exporter": "python",
   "pygments_lexer": "ipython3",
   "version": "3.9.19"
  }
 },
 "nbformat": 4,
 "nbformat_minor": 5
}
